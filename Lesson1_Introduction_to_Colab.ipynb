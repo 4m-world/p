{
  "nbformat": 4,
  "nbformat_minor": 0,
  "metadata": {
    "colab": {
      "name": "Lesson2-Python For Data Science-Introduction-to-Colab.ipynb",
      "provenance": [],
      "collapsed_sections": [
        "qqAIvhP5N4iu",
        "rFoJ_ekfWrY8",
        "epYHKGvoN8n3",
        "IrhCtqRnXE0H",
        "_TfXsBkouZs3",
        "kn-P-e_hjvK5",
        "gG6bUpCQcWQe",
        "yHdWIarsN850",
        "hPWO_zyRopXN",
        "bq4VmHjPpMOR",
        "fYu0ekUlqPk6",
        "FpJhrpSQsK5E",
        "Kj977UW3rph_",
        "xSBoMgN4lRAr",
        "bG6eVSevY5_z",
        "Y_IEtysrbyCG",
        "23kiNSVkb09I",
        "z2pbL991a9OU",
        "7n10W_hmb5CX",
        "S2l0ozLudvx5",
        "nrkDViEcfnw8",
        "rQkSyrDjxXA4",
        "jYjzO6a4N88q",
        "vn1SjZ7Kr_Em"
      ],
      "toc_visible": true,
      "include_colab_link": true
    },
    "kernelspec": {
      "name": "python3",
      "display_name": "Python 3"
    }
  },
  "cells": [
    {
      "cell_type": "markdown",
      "metadata": {
        "id": "view-in-github",
        "colab_type": "text"
      },
      "source": [
        "<a href=\"https://colab.research.google.com/github/4m-world/p/blob/main/Lesson1_Introduction_to_Colab.ipynb\" target=\"_parent\"><img src=\"https://colab.research.google.com/assets/colab-badge.svg\" alt=\"Open In Colab\"/></a>"
      ]
    },
    {
      "cell_type": "markdown",
      "metadata": {
        "id": "spdivf2TMnGC"
      },
      "source": [
        "# Lesson 1 Introduction to Colab"
      ]
    },
    {
      "cell_type": "markdown",
      "metadata": {
        "id": "qqAIvhP5N4iu"
      },
      "source": [
        "## 1.1 First Colab Document\n",
        "\n"
      ]
    },
    {
      "cell_type": "markdown",
      "metadata": {
        "id": "rFoJ_ekfWrY8"
      },
      "source": [
        "### What is Colab?"
      ]
    },
    {
      "cell_type": "markdown",
      "metadata": {
        "id": "7MBiLIWmWzzF"
      },
      "source": [
        "\n",
        "\n",
        "*   Hosted Jupyter Notebooks\n",
        "*   GPU/TPU enabled runtimes\n",
        "*   Google Docs Integration\n",
        "\n"
      ]
    },
    {
      "cell_type": "markdown",
      "metadata": {
        "id": "epYHKGvoN8n3"
      },
      "source": [
        "### Creating Colab Notebooks\n",
        "\n",
        "\n",
        "\n"
      ]
    },
    {
      "cell_type": "markdown",
      "metadata": {
        "id": "8mYKNSGTYjX8"
      },
      "source": [
        "Three main interfaces:\n",
        "\n",
        "\n",
        "\n",
        "*   New Notebook (Python2 or Python3)\n",
        "*   Upload Notebooks\n",
        "*   Open Notebooks (Github, Drive, Upload)\n",
        "\n"
      ]
    },
    {
      "cell_type": "markdown",
      "metadata": {
        "id": "OihBytjrhvPd"
      },
      "source": [
        "###Getting started\n",
        "\n",
        "The document you are reading is not a static web page, but an interactive environment called a Colab notebook that lets you write and execute code.\n",
        "**bold text**\n",
        "For example, here is a code cell with a short Python script that computes a value, stores it in a variable, and prints the result:"
      ]
    },
    {
      "cell_type": "code",
      "metadata": {
        "id": "ENVUic7vh1lQ",
        "colab": {
          "base_uri": "https://localhost:8080/",
          "height": 35
        },
        "outputId": "1195e5f3-7af9-4285-a328-d9d5eacebf5a"
      },
      "source": [
        "seconds_in_a_day = 24 * 60 * 60\n",
        "seconds_in_a_day"
      ],
      "execution_count": null,
      "outputs": [
        {
          "output_type": "execute_result",
          "data": {
            "text/plain": [
              "86400"
            ]
          },
          "metadata": {
            "tags": []
          },
          "execution_count": 1
        }
      ]
    },
    {
      "cell_type": "markdown",
      "metadata": {
        "id": "0h2275wXh8-0"
      },
      "source": [
        "To execute the code in the above cell, select it with a click and then either press the play button to the left of the code, or use the keyboard shortcut \"Command/Ctrl+Enter\". To edit the code, just click the cell and start editing.\n",
        "\n",
        "Variables that you define in one cell can later be used in other cells:\n"
      ]
    },
    {
      "cell_type": "markdown",
      "metadata": {
        "id": "_TfXsBkouZs3"
      },
      "source": [
        "### Upload to Colab"
      ]
    },
    {
      "cell_type": "code",
      "metadata": {
        "id": "PmaBtHz_ub6_",
        "colab": {
          "base_uri": "https://localhost:8080/"
        },
        "outputId": "0d50d91e-2529-4e57-aad2-e30a1f863e7f"
      },
      "source": [
        "from google.colab import files\n",
        "uploaded = files.upload()"
      ],
      "execution_count": null,
      "outputs": [
        {
          "output_type": "display_data",
          "data": {
            "text/html": [
              "\n",
              "     <input type=\"file\" id=\"files-37d71260-157a-493f-94fe-836e9f7a1055\" name=\"files[]\" multiple disabled\n",
              "        style=\"border:none\" />\n",
              "     <output id=\"result-37d71260-157a-493f-94fe-836e9f7a1055\">\n",
              "      Upload widget is only available when the cell has been executed in the\n",
              "      current browser session. Please rerun this cell to enable.\n",
              "      </output>\n",
              "      <script src=\"/nbextensions/google.colab/files.js\"></script> "
            ],
            "text/plain": [
              "<IPython.core.display.HTML object>"
            ]
          },
          "metadata": {
            "tags": []
          }
        }
      ]
    },
    {
      "cell_type": "markdown",
      "metadata": {
        "id": "kn-P-e_hjvK5"
      },
      "source": [
        "### Python executable\n",
        "\n",
        "Can run scripts, REPL and even run python statements with -c flag and semicolon to string together multiple statements"
      ]
    },
    {
      "cell_type": "markdown",
      "metadata": {
        "id": "BpcpYYGrWxig"
      },
      "source": [
        "#### Run python"
      ]
    },
    {
      "cell_type": "code",
      "metadata": {
        "id": "p2aDegQxjegv",
        "colab": {
          "base_uri": "https://localhost:8080/",
          "height": 35
        },
        "outputId": "cf78891a-7712-4220-a25d-a99d3c110869"
      },
      "source": [
        "!python -c \"import os;print(os.listdir())\""
      ],
      "execution_count": null,
      "outputs": [
        {
          "output_type": "stream",
          "text": [
            "['.config', 'gdrive', 'sample_data']\n"
          ],
          "name": "stdout"
        }
      ]
    },
    {
      "cell_type": "markdown",
      "metadata": {
        "id": "XMV31Ow0W0xk"
      },
      "source": [
        "#### Run bash"
      ]
    },
    {
      "cell_type": "code",
      "metadata": {
        "id": "WaXhDeUM_49R",
        "colab": {
          "base_uri": "https://localhost:8080/",
          "height": 127
        },
        "outputId": "e12f7fba-82ab-4a5d-aed0-35fade850e32"
      },
      "source": [
        "!ls -lah"
      ],
      "execution_count": null,
      "outputs": [
        {
          "output_type": "stream",
          "text": [
            "total 20K\n",
            "drwxr-xr-x 1 root root 4.0K Jan  4 16:06 .\n",
            "drwxr-xr-x 1 root root 4.0K Jan  4 15:38 ..\n",
            "drwxr-xr-x 1 root root 4.0K Dec 18 16:52 .config\n",
            "drwx------ 4 root root 4.0K Jan  4 16:06 gdrive\n",
            "drwxr-xr-x 1 root root 4.0K Dec 18 16:52 sample_data\n"
          ],
          "name": "stdout"
        }
      ]
    },
    {
      "cell_type": "markdown",
      "metadata": {
        "id": "24yWt4aWW32Y"
      },
      "source": [
        "#### Install packages"
      ]
    },
    {
      "cell_type": "code",
      "metadata": {
        "id": "58zCAVUC_8JP",
        "colab": {
          "base_uri": "https://localhost:8080/",
          "height": 237
        },
        "outputId": "1ce4c8c8-65b1-46ab-d08d-1bb22e24df6c"
      },
      "source": [
        "!pip install yellowbrick"
      ],
      "execution_count": null,
      "outputs": [
        {
          "output_type": "stream",
          "text": [
            "Requirement already satisfied: yellowbrick in /usr/local/lib/python3.6/dist-packages (0.9.1)\n",
            "Requirement already satisfied: scipy>=1.0.0 in /usr/local/lib/python3.6/dist-packages (from yellowbrick) (1.3.3)\n",
            "Requirement already satisfied: scikit-learn>=0.20 in /usr/local/lib/python3.6/dist-packages (from yellowbrick) (0.21.3)\n",
            "Requirement already satisfied: cycler>=0.10.0 in /usr/local/lib/python3.6/dist-packages (from yellowbrick) (0.10.0)\n",
            "Requirement already satisfied: matplotlib!=3.0.0,>=1.5.1 in /usr/local/lib/python3.6/dist-packages (from yellowbrick) (3.1.2)\n",
            "Requirement already satisfied: numpy>=1.13.0 in /usr/local/lib/python3.6/dist-packages (from yellowbrick) (1.17.4)\n",
            "Requirement already satisfied: joblib>=0.11 in /usr/local/lib/python3.6/dist-packages (from scikit-learn>=0.20->yellowbrick) (0.14.1)\n",
            "Requirement already satisfied: six in /usr/local/lib/python3.6/dist-packages (from cycler>=0.10.0->yellowbrick) (1.12.0)\n",
            "Requirement already satisfied: pyparsing!=2.0.4,!=2.1.2,!=2.1.6,>=2.0.1 in /usr/local/lib/python3.6/dist-packages (from matplotlib!=3.0.0,>=1.5.1->yellowbrick) (2.4.5)\n",
            "Requirement already satisfied: kiwisolver>=1.0.1 in /usr/local/lib/python3.6/dist-packages (from matplotlib!=3.0.0,>=1.5.1->yellowbrick) (1.1.0)\n",
            "Requirement already satisfied: python-dateutil>=2.1 in /usr/local/lib/python3.6/dist-packages (from matplotlib!=3.0.0,>=1.5.1->yellowbrick) (2.6.1)\n",
            "Requirement already satisfied: setuptools in /usr/local/lib/python3.6/dist-packages (from kiwisolver>=1.0.1->matplotlib!=3.0.0,>=1.5.1->yellowbrick) (42.0.2)\n"
          ],
          "name": "stdout"
        }
      ]
    },
    {
      "cell_type": "markdown",
      "metadata": {
        "id": "yHdWIarsN850"
      },
      "source": [
        "## 1.2 Managing Colab Documents\n",
        "\n"
      ]
    },
    {
      "cell_type": "markdown",
      "metadata": {
        "id": "hPWO_zyRopXN"
      },
      "source": [
        "### Mount GDrive Workflow\n"
      ]
    },
    {
      "cell_type": "code",
      "metadata": {
        "id": "XI73HZNLobp4"
      },
      "source": [
        "from google.colab import drive\n",
        "drive.mount('/content/gdrive', force_remount=True)"
      ],
      "execution_count": null,
      "outputs": []
    },
    {
      "cell_type": "code",
      "metadata": {
        "id": "UNyzZwgmoxwm",
        "colab": {
          "base_uri": "https://localhost:8080/",
          "height": 35
        },
        "outputId": "71266c72-079c-4602-8283-5bffeeb6392a"
      },
      "source": [
        "import os;os.listdir(\"/content/gdrive\")"
      ],
      "execution_count": null,
      "outputs": [
        {
          "output_type": "execute_result",
          "data": {
            "text/plain": [
              "['.shortcut-targets-by-id', 'My Drive', '.Trash']"
            ]
          },
          "metadata": {
            "tags": []
          },
          "execution_count": 49
        }
      ]
    },
    {
      "cell_type": "markdown",
      "metadata": {
        "id": "5UvJEDSRY06K"
      },
      "source": [
        "### GitHub Integration\n",
        "\n",
        "\n"
      ]
    },
    {
      "cell_type": "markdown",
      "metadata": {
        "id": "dgvp-IbIY06W"
      },
      "source": [
        "\n",
        "*   **Load Public Notebooks from Github**\n",
        "\n",
        "*Original URL*:  https://github.com/smabb/python_for_datascience/blob/master/Lesson1_Introduction_to_Colab.ipynb\n",
        "\n",
        "*Colab Load UR*L: \n",
        "https://colab.research.google.com/github.com/smabb/p/blob/master/Lesson1_Introduction_to_Colab.ipynb\n",
        "\n",
        "\n",
        "*   **Browsing Github Repos**\n",
        "\n",
        "*All of Github*:\n",
        "\n",
        "http://colab.research.google.com/github\n",
        "\n",
        "*An organization or user*\n",
        "\n",
        "http://colab.research.google.com/github/smabb/\n",
        "\n",
        "\n",
        "\n",
        "* **Saving to Github**\n",
        "\n",
        " - Github repo\n",
        " - Gist\n",
        "\n"
      ]
    },
    {
      "cell_type": "markdown",
      "metadata": {
        "id": "jYjzO6a4N88q"
      },
      "source": [
        "## 1.3 Using magic functions\n"
      ]
    },
    {
      "cell_type": "markdown",
      "metadata": {
        "id": "0RghD6UqZN54"
      },
      "source": [
        "### How to Use"
      ]
    },
    {
      "cell_type": "code",
      "metadata": {
        "id": "djgl6nqVaSpI",
        "colab": {
          "base_uri": "https://localhost:8080/",
          "height": 35
        },
        "outputId": "486f69e8-a481-498e-d3b7-3335291e745b"
      },
      "source": [
        "print('Hello')\n"
      ],
      "execution_count": null,
      "outputs": [
        {
          "output_type": "stream",
          "text": [
            "Hello\n"
          ],
          "name": "stdout"
        }
      ]
    },
    {
      "cell_type": "markdown",
      "metadata": {
        "id": "Fok7Y4WzZef0"
      },
      "source": [
        "### Magic Functions"
      ]
    },
    {
      "cell_type": "markdown",
      "metadata": {
        "id": "Zf35CYV9PrjS"
      },
      "source": [
        "#### %timeit"
      ]
    },
    {
      "cell_type": "code",
      "metadata": {
        "id": "PRj8G5D0DDQz"
      },
      "source": [
        "import numpy as np"
      ],
      "execution_count": null,
      "outputs": []
    },
    {
      "cell_type": "code",
      "metadata": {
        "id": "tMpMJH0rfAEg",
        "colab": {
          "base_uri": "https://localhost:8080/",
          "height": 119
        },
        "outputId": "974fd173-e9d1-476c-e45a-d09ec98dd201"
      },
      "source": [
        "too_many_decimals = 1.912345897\n",
        "\n",
        "print(\"built in Python Round\")\n",
        "%timeit round(too_many_decimals, 2)\n",
        "\n",
        "print(\"numpy round\")\n",
        "%timeit np.round(too_many_decimals, 2)\n"
      ],
      "execution_count": null,
      "outputs": [
        {
          "output_type": "stream",
          "text": [
            "built in Python Round\n",
            "The slowest run took 13.28 times longer than the fastest. This could mean that an intermediate result is being cached.\n",
            "1000000 loops, best of 3: 507 ns per loop\n",
            "numpy round\n",
            "The slowest run took 9.87 times longer than the fastest. This could mean that an intermediate result is being cached.\n",
            "100000 loops, best of 3: 8.09 µs per loop\n"
          ],
          "name": "stdout"
        }
      ]
    },
    {
      "cell_type": "markdown",
      "metadata": {
        "id": "p_KLutZKq5yN"
      },
      "source": [
        "#### %alias"
      ]
    },
    {
      "cell_type": "code",
      "metadata": {
        "id": "jyIZLH6UpMou"
      },
      "source": [
        "alias lscsv ls -l sample_data/*.csv "
      ],
      "execution_count": null,
      "outputs": []
    },
    {
      "cell_type": "code",
      "metadata": {
        "id": "BNJ6bKtGpVn3",
        "colab": {
          "base_uri": "https://localhost:8080/",
          "height": 85
        },
        "outputId": "27ce724d-3e94-41d8-9d0c-fb93905e6867"
      },
      "source": [
        "lscsv"
      ],
      "execution_count": null,
      "outputs": [
        {
          "output_type": "stream",
          "text": [
            "-rw-r--r-- 1 root root   301141 Feb  6 17:31 sample_data/california_housing_test.csv\n",
            "-rw-r--r-- 1 root root  1706430 Feb  6 17:31 sample_data/california_housing_train.csv\n",
            "-rw-r--r-- 1 root root 18289443 Feb  6 17:31 sample_data/mnist_test.csv\n",
            "-rw-r--r-- 1 root root 36523880 Feb  6 17:31 sample_data/mnist_train_small.csv\n"
          ],
          "name": "stdout"
        }
      ]
    },
    {
      "cell_type": "markdown",
      "metadata": {
        "id": "AE1cfp41rcwL"
      },
      "source": [
        "[Reference These]\n",
        "https://ipython.readthedocs.io/en/stable/interactive/magics.html"
      ]
    },
    {
      "cell_type": "markdown",
      "metadata": {
        "id": "MnsQIiDurIPp"
      },
      "source": [
        "#### %who"
      ]
    },
    {
      "cell_type": "markdown",
      "metadata": {
        "id": "ljy17rdjrWD9"
      },
      "source": [
        "Print variables"
      ]
    },
    {
      "cell_type": "code",
      "metadata": {
        "id": "ACyoq3IsrNZV",
        "colab": {
          "base_uri": "https://localhost:8080/",
          "height": 182
        },
        "outputId": "078a0983-bda9-44cb-af70-3b05aaf10733"
      },
      "source": [
        "who_ls"
      ],
      "execution_count": null,
      "outputs": [
        {
          "output_type": "execute_result",
          "data": {
            "text/plain": [
              "['Use_Python',\n",
              " 'drive',\n",
              " 'files',\n",
              " 'np',\n",
              " 'os',\n",
              " 'pd',\n",
              " 'sys',\n",
              " 'too_many_decimals',\n",
              " 'uploaded']"
            ]
          },
          "metadata": {
            "tags": []
          },
          "execution_count": 51
        }
      ]
    },
    {
      "cell_type": "code",
      "metadata": {
        "id": "MURtyzAMrZ1Z",
        "colab": {
          "base_uri": "https://localhost:8080/",
          "height": 35
        },
        "outputId": "ef417fae-f315-41bb-817f-5de88c2e96e6"
      },
      "source": [
        "too_many_decimals"
      ],
      "execution_count": null,
      "outputs": [
        {
          "output_type": "execute_result",
          "data": {
            "text/plain": [
              "1.912345897"
            ]
          },
          "metadata": {
            "tags": []
          },
          "execution_count": 53
        }
      ]
    },
    {
      "cell_type": "markdown",
      "metadata": {
        "id": "l9z-cAQow-BO"
      },
      "source": [
        "#### %writefile"
      ]
    },
    {
      "cell_type": "code",
      "metadata": {
        "id": "luIP2qKqxJmB",
        "colab": {
          "base_uri": "https://localhost:8080/",
          "height": 34
        },
        "outputId": "30c2945c-f3fe-4245-c08e-5bbe9f094b95"
      },
      "source": [
        "%%writefile magic_stuff.txt\n",
        "import pandas as pd\n",
        "df = pd.read_csv(\n",
        "    \"https://raw.githubusercontent.com/noahgift/food/master/data/features.en.openfoodfacts.org.products.csv\")\n",
        "df.drop([\"Unnamed: 0\", \"exceeded\", \"g_sum\", \"energy_100g\"], axis=1, inplace=True) #drop two rows we don't need\n",
        "df = df.drop(df.index[[1,11877]]) #drop outlier\n",
        "df.rename(index=str, columns={\"reconstructed_energy\": \"energy_100g\"}, inplace=True)\n",
        "df.head()"
      ],
      "execution_count": null,
      "outputs": [
        {
          "output_type": "stream",
          "text": [
            "Writing magic_stuff.txt\n"
          ],
          "name": "stdout"
        }
      ]
    },
    {
      "cell_type": "code",
      "metadata": {
        "id": "uok6ppvvxRo9",
        "colab": {
          "base_uri": "https://localhost:8080/",
          "height": 136
        },
        "outputId": "575bba8d-4fdd-408e-c350-ea34def136b2"
      },
      "source": [
        "cat magic_stuff.txt"
      ],
      "execution_count": null,
      "outputs": [
        {
          "output_type": "stream",
          "text": [
            "import pandas as pd\n",
            "df = pd.read_csv(\n",
            "    \"https://raw.githubusercontent.com/noahgift/food/master/data/features.en.openfoodfacts.org.products.csv\")\n",
            "df.drop([\"Unnamed: 0\", \"exceeded\", \"g_sum\", \"energy_100g\"], axis=1, inplace=True) #drop two rows we don't need\n",
            "df = df.drop(df.index[[1,11877]]) #drop outlier\n",
            "df.rename(index=str, columns={\"reconstructed_energy\": \"energy_100g\"}, inplace=True)\n",
            "df.head()"
          ],
          "name": "stdout"
        }
      ]
    },
    {
      "cell_type": "markdown",
      "metadata": {
        "id": "ohA_HAOewNMT"
      },
      "source": [
        "### Python2"
      ]
    },
    {
      "cell_type": "code",
      "metadata": {
        "id": "eioZW4txwO7-",
        "colab": {
          "base_uri": "https://localhost:8080/",
          "height": 35
        },
        "outputId": "502943a2-71b0-4e47-c198-1f516c56cf5b"
      },
      "source": [
        "%%python2\n",
        "print \"old school\"\n"
      ],
      "execution_count": null,
      "outputs": [
        {
          "output_type": "stream",
          "text": [
            "old school\n"
          ],
          "name": "stdout"
        }
      ]
    },
    {
      "cell_type": "code",
      "metadata": {
        "id": "FneBpGetEHjG",
        "colab": {
          "base_uri": "https://localhost:8080/",
          "height": 135
        },
        "outputId": "f719bc8b-ea70-4457-d21f-44ee57cf5c90"
      },
      "source": [
        "print \"old school\""
      ],
      "execution_count": null,
      "outputs": [
        {
          "output_type": "error",
          "ename": "SyntaxError",
          "evalue": "ignored",
          "traceback": [
            "\u001b[0;36m  File \u001b[0;32m\"<ipython-input-43-ed16c9002a7c>\"\u001b[0;36m, line \u001b[0;32m1\u001b[0m\n\u001b[0;31m    print \"old school\"\u001b[0m\n\u001b[0m                     ^\u001b[0m\n\u001b[0;31mSyntaxError\u001b[0m\u001b[0;31m:\u001b[0m Missing parentheses in call to 'print'. Did you mean print(\"old school\")?\n"
          ]
        }
      ]
    }
  ]
}