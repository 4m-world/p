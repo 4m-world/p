{
  "nbformat": 4,
  "nbformat_minor": 0,
  "metadata": {
    "colab": {
      "name": "2021-07-28-PythonIT-HRExercise.ipynb",
      "provenance": [],
      "collapsed_sections": [],
      "include_colab_link": true
    },
    "kernelspec": {
      "name": "python3",
      "display_name": "Python 3"
    },
    "accelerator": "GPU"
  },
  "cells": [
    {
      "cell_type": "markdown",
      "metadata": {
        "id": "view-in-github",
        "colab_type": "text"
      },
      "source": [
        "<a href=\"https://colab.research.google.com/github/4m-world/p/blob/main/PythonIT_HRExercise.ipynb\" target=\"_parent\"><img src=\"https://colab.research.google.com/assets/colab-badge.svg\" alt=\"Open In Colab\"/></a>"
      ]
    },
    {
      "cell_type": "markdown",
      "metadata": {
        "id": "MzmEcNHzuBI3"
      },
      "source": [
        "# Clone the Source GitHub Reporsitory \n",
        "We need to clone some source files to be used throughtout this tutorial from the GitHub reprository"
      ]
    },
    {
      "cell_type": "code",
      "metadata": {
        "id": "TmP4GrRNudXH",
        "colab": {
          "base_uri": "https://localhost:8080/"
        },
        "outputId": "524db73f-b7fa-407e-ce2f-02882116a994"
      },
      "source": [
        "!rm -rf ./MachineLearning\n",
        "!git clone https://github.com/mkjubran/MachineLearning.git"
      ],
      "execution_count": 1,
      "outputs": [
        {
          "output_type": "stream",
          "text": [
            "Cloning into 'MachineLearning'...\n",
            "remote: Enumerating objects: 273, done.\u001b[K\n",
            "remote: Counting objects: 100% (23/23), done.\u001b[K\n",
            "remote: Compressing objects: 100% (18/18), done.\u001b[K\n",
            "remote: Total 273 (delta 11), reused 17 (delta 5), pack-reused 250\u001b[K\n",
            "Receiving objects: 100% (273/273), 72.83 MiB | 27.81 MiB/s, done.\n",
            "Resolving deltas: 100% (126/126), done.\n"
          ],
          "name": "stdout"
        }
      ]
    },
    {
      "cell_type": "markdown",
      "metadata": {
        "id": "BH1COvVuXwR5"
      },
      "source": [
        "# HR Analysis Exercise\n",
        "\n",
        "In this section, we will analyze the data of employees of a company. This data includes some information about the employees who are working at the company and those who left the company. Our objective is to apply exploratory Data Analysis to determine which information is more relevant to the decision of employees to stay or leave the company. The features will be used later in the machine learning tutorial to predict whether an existing employee would leave the company based on his/her current status.$^{[1]}$\n",
        "\n",
        "[1] https://codebasicshub.com/tutorial/machine-learning/logistic-regression-binary-classification"
      ]
    },
    {
      "cell_type": "markdown",
      "metadata": {
        "id": "2eR70Y6nbQYs"
      },
      "source": [
        "**Implementation**\n",
        "\n",
        "Read the input data from the csv file (HR_comma_sep.csv) file. Dataset is downloaded from Kaggle. Link: https://www.kaggle.com/giripujar/hr-analytics. Use the pandas library (https://pandas.pydata.org/) to read the data from the file."
      ]
    },
    {
      "cell_type": "code",
      "metadata": {
        "id": "7ZrjhWA3YRcE",
        "colab": {
          "base_uri": "https://localhost:8080/",
          "height": 224
        },
        "outputId": "f6388b6b-340a-4ef6-97de-6e5d16eb439f"
      },
      "source": [
        "import pandas as pd\n",
        "HR = pd.read_csv('./MachineLearning/2_logistic/HR_comma_sep.csv')\n",
        "HR.head()"
      ],
      "execution_count": 2,
      "outputs": [
        {
          "output_type": "execute_result",
          "data": {
            "text/html": [
              "<div>\n",
              "<style scoped>\n",
              "    .dataframe tbody tr th:only-of-type {\n",
              "        vertical-align: middle;\n",
              "    }\n",
              "\n",
              "    .dataframe tbody tr th {\n",
              "        vertical-align: top;\n",
              "    }\n",
              "\n",
              "    .dataframe thead th {\n",
              "        text-align: right;\n",
              "    }\n",
              "</style>\n",
              "<table border=\"1\" class=\"dataframe\">\n",
              "  <thead>\n",
              "    <tr style=\"text-align: right;\">\n",
              "      <th></th>\n",
              "      <th>satisfaction_level</th>\n",
              "      <th>last_evaluation</th>\n",
              "      <th>number_project</th>\n",
              "      <th>average_montly_hours</th>\n",
              "      <th>time_spend_company</th>\n",
              "      <th>Work_accident</th>\n",
              "      <th>left</th>\n",
              "      <th>promotion_last_5years</th>\n",
              "      <th>Department</th>\n",
              "      <th>salary</th>\n",
              "    </tr>\n",
              "  </thead>\n",
              "  <tbody>\n",
              "    <tr>\n",
              "      <th>0</th>\n",
              "      <td>0.38</td>\n",
              "      <td>0.53</td>\n",
              "      <td>2</td>\n",
              "      <td>157</td>\n",
              "      <td>3</td>\n",
              "      <td>0</td>\n",
              "      <td>1</td>\n",
              "      <td>0</td>\n",
              "      <td>sales</td>\n",
              "      <td>low</td>\n",
              "    </tr>\n",
              "    <tr>\n",
              "      <th>1</th>\n",
              "      <td>0.80</td>\n",
              "      <td>0.86</td>\n",
              "      <td>5</td>\n",
              "      <td>262</td>\n",
              "      <td>6</td>\n",
              "      <td>0</td>\n",
              "      <td>1</td>\n",
              "      <td>0</td>\n",
              "      <td>sales</td>\n",
              "      <td>medium</td>\n",
              "    </tr>\n",
              "    <tr>\n",
              "      <th>2</th>\n",
              "      <td>0.11</td>\n",
              "      <td>0.88</td>\n",
              "      <td>7</td>\n",
              "      <td>272</td>\n",
              "      <td>4</td>\n",
              "      <td>0</td>\n",
              "      <td>1</td>\n",
              "      <td>0</td>\n",
              "      <td>sales</td>\n",
              "      <td>medium</td>\n",
              "    </tr>\n",
              "    <tr>\n",
              "      <th>3</th>\n",
              "      <td>0.72</td>\n",
              "      <td>0.87</td>\n",
              "      <td>5</td>\n",
              "      <td>223</td>\n",
              "      <td>5</td>\n",
              "      <td>0</td>\n",
              "      <td>1</td>\n",
              "      <td>0</td>\n",
              "      <td>sales</td>\n",
              "      <td>low</td>\n",
              "    </tr>\n",
              "    <tr>\n",
              "      <th>4</th>\n",
              "      <td>0.37</td>\n",
              "      <td>0.52</td>\n",
              "      <td>2</td>\n",
              "      <td>159</td>\n",
              "      <td>3</td>\n",
              "      <td>0</td>\n",
              "      <td>1</td>\n",
              "      <td>0</td>\n",
              "      <td>sales</td>\n",
              "      <td>low</td>\n",
              "    </tr>\n",
              "  </tbody>\n",
              "</table>\n",
              "</div>"
            ],
            "text/plain": [
              "   satisfaction_level  last_evaluation  ...  Department  salary\n",
              "0                0.38             0.53  ...       sales     low\n",
              "1                0.80             0.86  ...       sales  medium\n",
              "2                0.11             0.88  ...       sales  medium\n",
              "3                0.72             0.87  ...       sales     low\n",
              "4                0.37             0.52  ...       sales     low\n",
              "\n",
              "[5 rows x 10 columns]"
            ]
          },
          "metadata": {
            "tags": []
          },
          "execution_count": 2
        }
      ]
    },
    {
      "cell_type": "markdown",
      "metadata": {
        "id": "SEVwPozTbhm6"
      },
      "source": [
        "To use numpy for EDA, the data should be converted to numpy array."
      ]
    },
    {
      "cell_type": "code",
      "metadata": {
        "id": "Yo837uyXcXDE"
      },
      "source": [
        "import numpy as np\n",
        "HRnp = np.array(HR)"
      ],
      "execution_count": 3,
      "outputs": []
    },
    {
      "cell_type": "markdown",
      "metadata": {
        "id": "R61IR-gJdNQQ"
      },
      "source": [
        "1- How many employees left the compnay in the dataset?  "
      ]
    },
    {
      "cell_type": "code",
      "metadata": {
        "id": "Cc3sErqAdKap",
        "colab": {
          "base_uri": "https://localhost:8080/"
        },
        "outputId": "d3e19242-4ba7-4ed7-e15c-9bde8701138e"
      },
      "source": [
        "# write your code here\n",
        "filterLeft = HR['left'] == 1\n",
        "left = HR.loc[filterLeft]['left'].count()\n",
        "left"
      ],
      "execution_count": 4,
      "outputs": [
        {
          "output_type": "execute_result",
          "data": {
            "text/plain": [
              "3571"
            ]
          },
          "metadata": {
            "tags": []
          },
          "execution_count": 4
        }
      ]
    },
    {
      "cell_type": "markdown",
      "metadata": {
        "id": "RCdgFog5dAmn"
      },
      "source": [
        "2- What is the percentage of employees who left the company?"
      ]
    },
    {
      "cell_type": "code",
      "metadata": {
        "id": "_1I5Z7CPdOYr",
        "colab": {
          "base_uri": "https://localhost:8080/"
        },
        "outputId": "0c40af4c-ebe1-4534-d30a-76c431c59dc0"
      },
      "source": [
        "# write your code here\n",
        "total = HR['left'].count()\n",
        "perLeft = left / total * 100.0\n",
        "perLeft"
      ],
      "execution_count": 5,
      "outputs": [
        {
          "output_type": "execute_result",
          "data": {
            "text/plain": [
              "23.80825388359224"
            ]
          },
          "metadata": {
            "tags": []
          },
          "execution_count": 5
        }
      ]
    },
    {
      "cell_type": "markdown",
      "metadata": {
        "id": "8GvysNLodJlk"
      },
      "source": [
        "3- The administration says that employees who remain in the company has higher satisfaction_level and thus it is a good indicator for our regression/classifier (good feature). Is this true?"
      ]
    },
    {
      "cell_type": "code",
      "metadata": {
        "id": "qIAOM7v6dcVB",
        "colab": {
          "base_uri": "https://localhost:8080/"
        },
        "outputId": "2d74d22c-7bfd-4399-aa25-91dae20e4e9e"
      },
      "source": [
        "# write your code here\n",
        "filterStaff = HR['left'] != 1\n",
        "leftSat = HR[filterLeft]['satisfaction_level'].mean()\n",
        "staffSat = HR[filterStaff]['satisfaction_level'].mean()\n",
        "staffSat > leftSat"
      ],
      "execution_count": 6,
      "outputs": [
        {
          "output_type": "execute_result",
          "data": {
            "text/plain": [
              "True"
            ]
          },
          "metadata": {
            "tags": []
          },
          "execution_count": 6
        }
      ]
    },
    {
      "cell_type": "markdown",
      "metadata": {
        "id": "dAoZf4smdiI1"
      },
      "source": [
        "4- The administration says that the last_evaluation, number of projects, and time_spend_company scores are almost independent of the employees remain or leave the company. Is this true?"
      ]
    },
    {
      "cell_type": "code",
      "metadata": {
        "id": "2Cj9sqJPdsj4",
        "colab": {
          "base_uri": "https://localhost:8080/"
        },
        "outputId": "169f74b0-af06-4d82-de60-d4e18bd22222"
      },
      "source": [
        "# write your code here\n",
        "staffLastEval = HR[filterStaff]['last_evaluation'].mean()\n",
        "staffNumProj = HR[filterStaff]['number_project'].mean()\n",
        "staffTimeSpn = HR[filterStaff]['time_spend_company'].mean()\n",
        "print(staffLastEval, staffNumProj, staffTimeSpn)\n",
        "nonStaffLastEval = HR[filterLeft]['last_evaluation'].mean()\n",
        "nonStaffNumProj = HR[filterLeft]['number_project'].mean()\n",
        "nonStaffTimeSpn = HR[filterLeft]['time_spend_company'].mean()\n",
        "print(nonStaffLastEval, nonStaffNumProj, nonStaffTimeSpn)\n",
        "print(True)"
      ],
      "execution_count": 7,
      "outputs": [
        {
          "output_type": "stream",
          "text": [
            "0.7154733986699274 3.786664333216661 3.3800315015750786\n",
            "0.7181125735088183 3.8555026603192384 3.876505180621675\n",
            "True\n"
          ],
          "name": "stdout"
        }
      ]
    },
    {
      "cell_type": "markdown",
      "metadata": {
        "id": "LvMQMz_Udxpt"
      },
      "source": [
        "5- The administration claims that the promotion_last_5years feature of employees remaining in the company is much higher than those left the company (good feature). Is this true?"
      ]
    },
    {
      "cell_type": "code",
      "metadata": {
        "id": "R3O-pOPdd5e8",
        "colab": {
          "base_uri": "https://localhost:8080/"
        },
        "outputId": "d781d64f-d764-4733-bb09-ef5321e810b1"
      },
      "source": [
        "# write your code here\n",
        "staffPromPast5y = HR[filterStaff]['promotion_last_5years'].mean()\n",
        "nonStaffPromPast5y = HR[filterLeft]['promotion_last_5years'].mean()\n",
        "print(staffPromPast5y, nonStaffPromPast5y)\n",
        "# This assumption is invalid since we do not know when the employee left the \n",
        "# company exactly unless all data refer to the past five years.\n",
        "staffPromPast5y > nonStaffPromPast5y"
      ],
      "execution_count": 8,
      "outputs": [
        {
          "output_type": "stream",
          "text": [
            "0.026251312565628283 0.005320638476617194\n"
          ],
          "name": "stdout"
        },
        {
          "output_type": "execute_result",
          "data": {
            "text/plain": [
              "True"
            ]
          },
          "metadata": {
            "tags": []
          },
          "execution_count": 8
        }
      ]
    },
    {
      "cell_type": "markdown",
      "metadata": {
        "id": "geQBnagrduRo"
      },
      "source": [
        "6- The Work_accident is an indicator for the decision of employees to leave/stay in the company and this is a good feature. Is this true?"
      ]
    },
    {
      "cell_type": "code",
      "metadata": {
        "id": "vJ9ubSbdeOfB",
        "colab": {
          "base_uri": "https://localhost:8080/"
        },
        "outputId": "09546278-d06f-4caa-9335-af2158305412"
      },
      "source": [
        "# write your code here\n",
        "staffWorkAccidents = HR[filterStaff]['Work_accident'].sum()\n",
        "nonStaffWorkAccidents = HR[filterLeft]['Work_accident'].sum();\n",
        "print(staffWorkAccidents, nonStaffWorkAccidents)\n",
        "staffWorkAccidents > nonStaffWorkAccidents"
      ],
      "execution_count": 9,
      "outputs": [
        {
          "output_type": "stream",
          "text": [
            "2000 169\n"
          ],
          "name": "stdout"
        },
        {
          "output_type": "execute_result",
          "data": {
            "text/plain": [
              "True"
            ]
          },
          "metadata": {
            "tags": []
          },
          "execution_count": 9
        }
      ]
    },
    {
      "cell_type": "markdown",
      "metadata": {
        "id": "XKNjD8TCeW3f"
      },
      "source": [
        "7- The data shows that emloyees with high salaries are more likely to stay in the company. So it is a good feature. What do you think?"
      ]
    },
    {
      "cell_type": "code",
      "metadata": {
        "id": "bNujY40Lehjv",
        "colab": {
          "base_uri": "https://localhost:8080/"
        },
        "outputId": "20c964be-f982-46ca-bd17-299f0e586d2b"
      },
      "source": [
        "# write your code here\n",
        "filterHighSalary = HR['salary'] == 'high'\n",
        "numNonStaffWithHighSalary = HR[filterLeft & filterHighSalary]['left'].count() / HR[filterLeft]['left'].count() * 100.0\n",
        "numStaffWithHighSalary = HR[filterStaff & filterHighSalary]['left'].count() / HR[filterStaff]['left'].count() * 100.0\n",
        "print(numNonStaffWithHighSalary, numStaffWithHighSalary)\n",
        "numNonStaffWithHighSalary < numStaffWithHighSalary"
      ],
      "execution_count": 10,
      "outputs": [
        {
          "output_type": "stream",
          "text": [
            "2.2962755530663683 10.106755337766888\n"
          ],
          "name": "stdout"
        },
        {
          "output_type": "execute_result",
          "data": {
            "text/plain": [
              "True"
            ]
          },
          "metadata": {
            "tags": []
          },
          "execution_count": 10
        }
      ]
    },
    {
      "cell_type": "markdown",
      "metadata": {
        "id": "kWOZE5NBy5ru"
      },
      "source": [
        "8- In the previous point you showed that emloyees with high salaries are more likely to stay in the company. Create a bar plot to visualize this."
      ]
    },
    {
      "cell_type": "code",
      "metadata": {
        "id": "6xIPIbJ5965b",
        "colab": {
          "base_uri": "https://localhost:8080/",
          "height": 285
        },
        "outputId": "b504460d-c6b9-48f6-e443-5cba0aa6f394"
      },
      "source": [
        "# write your code here\n",
        "import matplotlib.pyplot as plt\n",
        "# plt.bar(['Left Staff', 'Staff'],[HR[filterLeft & filterHighSalary]['left'].count(), HR[filterStaff & filterHighSalary]['left'].count()])\n",
        "data = [numNonStaffWithHighSalary, numStaffWithHighSalary]\n",
        "labels = ['non staff', 'staff']\n",
        "width = 0.3\n",
        "indx = range(len(data))\n",
        "print(data)\n",
        "fig, ax = plt.subplots()\n",
        "ax.set_ylabel('percentage (%)')\n",
        "b1 =ax.bar(indx, data, color ='#437bb7', width= width, alpha=0.7, align='center', linewidth = 0)\n",
        "ax.set_xticks(indx)\n",
        "ax.set_xticklabels(labels)\n",
        "# (b1, labels=[f'{x:.3}' for x in data])\n",
        "for i, v in enumerate(data):\n",
        "  label = f'{v/100:.2%}'\n",
        "  ax.text(i -.05, v + .25, label)\n",
        "plt.show()\n",
        "#plt.grid(color='#95a5a6', linestyle='--', linewidth=2, axis='y', alpha=0.7)\n"
      ],
      "execution_count": 11,
      "outputs": [
        {
          "output_type": "stream",
          "text": [
            "[2.2962755530663683, 10.106755337766888]\n"
          ],
          "name": "stdout"
        },
        {
          "output_type": "display_data",
          "data": {
            "image/png": "[encoded data removed]",
            "text/plain": [
              "<Figure size 432x288 with 1 Axes>"
            ]
          },
          "metadata": {
            "tags": [],
            "needs_background": "light"
          }
        }
      ]
    },
    {
      "cell_type": "markdown",
      "metadata": {
        "id": "rT1gQWr30YT0"
      },
      "source": [
        "9- The department type has a minor effect on the decision of employees to stay or leave the company. Create a bar plot to visualize this."
      ]
    },
    {
      "cell_type": "code",
      "metadata": {
        "id": "Xa0dwgwqfQoG",
        "colab": {
          "base_uri": "https://localhost:8080/",
          "height": 356
        },
        "outputId": "fc2503ec-4515-494e-857f-2da2cffcab30"
      },
      "source": [
        "# write your code here\n",
        "plt.style.use('ggplot')\n",
        "\n",
        "leftByDepSeries = HR.where(filterLeft).groupby('Department')['left'].count().items()\n",
        "leftByDepDf = pd.DataFrame(leftByDepSeries, columns = ['Department', 'People Left'])\n",
        "leftByDepDf.set_index('Department')\n",
        "#leftByDepDf.index.name = 'index'\n",
        "\n",
        "staffByDepSeries = HR.where(filterStaff).groupby('Department')['left'].count().items()\n",
        "staffByDepDf = pd.DataFrame(staffByDepSeries, columns = ['Department', 'Staff'])\n",
        "staffByDepDf.set_index('Department')\n",
        "#staffByDepDf.index.name = 'index'\n",
        "\n",
        "chartData = pd.merge(staffByDepDf, leftByDepDf, on=\"Department\", how=\"left\")\n",
        "chartData.head()\n",
        "\n",
        "chartData.plot.bar(title=\"\",x='Department')\n",
        "print()\n",
        "# staffByDepartment.plot(kind='bar', color=\"#2e98c9\" )\n",
        "# leftByDepartment.plot(kind='bar')"
      ],
      "execution_count": 12,
      "outputs": [
        {
          "output_type": "stream",
          "text": [
            "\n"
          ],
          "name": "stdout"
        },
        {
          "output_type": "display_data",
          "data": {
            "image/png": "[encoded data removed]",
            "text/plain": [
              "<Figure size 432x288 with 1 Axes>"
            ]
          },
          "metadata": {
            "tags": []
          }
        }
      ]
    }
  ]
}