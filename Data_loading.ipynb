{
  "nbformat": 4,
  "nbformat_minor": 0,
  "metadata": {
    "kernelspec": {
      "display_name": "Python 3",
      "language": "python",
      "name": "python3"
    },
    "language_info": {
      "codemirror_mode": {
        "name": "ipython",
        "version": 3
      },
      "file_extension": ".py",
      "mimetype": "text/x-python",
      "name": "python",
      "nbconvert_exporter": "python",
      "pygments_lexer": "ipython3",
      "version": "3.6.0"
    },
    "colab": {
      "name": "ch06.ipynb",
      "provenance": [],
      "toc_visible": true,
      "include_colab_link": true
    }
  },
  "cells": [
    {
      "cell_type": "markdown",
      "metadata": {
        "id": "view-in-github",
        "colab_type": "text"
      },
      "source": [
        "<a href=\"https://colab.research.google.com/github/smabb/p/blob/master/Data_loading.ipynb\" target=\"_parent\"><img src=\"https://colab.research.google.com/assets/colab-badge.svg\" alt=\"Open In Colab\"/></a>"
      ]
    },
    {
      "cell_type": "markdown",
      "metadata": {
        "deletable": true,
        "editable": true,
        "id": "8UW18_nPYfbY",
        "colab_type": "text"
      },
      "source": [
        "# Data Loading, Storage, "
      ]
    },
    {
      "cell_type": "markdown",
      "metadata": {
        "id": "io1-mCgsYkS-",
        "colab_type": "text"
      },
      "source": [
        "Accessing data is a necessary first step . I’m\n",
        "going to be focused on data input and output using pandas, though there are numerous\n",
        "tools in other libraries to help with reading and writing data in various formats.\n",
        "Input and output typically falls into a few main categories: reading text files and other\n",
        "more efficient on-disk formats, loading data from databases, and interacting with network\n",
        "sources like web APIs."
      ]
    },
    {
      "cell_type": "code",
      "metadata": {
        "deletable": true,
        "editable": true,
        "id": "xwDr33VQYfbk",
        "colab_type": "code",
        "colab": {}
      },
      "source": [
        "import numpy as np\n",
        "import pandas as pd\n",
        "np.random.seed(12345)\n",
        "import matplotlib.pyplot as plt\n",
        "plt.rc('figure', figsize=(10, 6))\n",
        "np.set_printoptions(precision=4, suppress=True)"
      ],
      "execution_count": 0,
      "outputs": []
    },
    {
      "cell_type": "markdown",
      "metadata": {
        "deletable": true,
        "editable": true,
        "id": "YeK4V0YVYfb6",
        "colab_type": "text"
      },
      "source": [
        "## Reading and Writing Data in Text Format"
      ]
    },
    {
      "cell_type": "markdown",
      "metadata": {
        "id": "kaTOR5o2Y9S9",
        "colab_type": "text"
      },
      "source": [
        "Pandas features a number of functions for reading tabular data as a DataFrame\n",
        "object. Table 6-1 summarizes some of them."
      ]
    },
    {
      "cell_type": "markdown",
      "metadata": {
        "id": "wrgcSPfjZGqU",
        "colab_type": "text"
      },
      "source": [
        "* `read_csv`                 Load delimited data from a file, URL, or file-like object; use comma as default delimiter\n",
        "\n",
        "* `read_table` Load delimited data from a file, URL, or file-like object; use tab ('\\t') as default delimiter\n",
        "\n",
        "* `read_fwf` Read data in fixed-width column format (i.e., no delimiters)\n",
        "\n",
        "* `read_clipboard` Version of read_table that reads data from the clipboard; useful for converting tables from web\n",
        "pages\n",
        "\n",
        "* `read_excel` Read tabular data from an Excel XLS or XLSX file\n",
        "\n",
        "* `read_hdf` Read HDF5 files written by pandas\n",
        "\n",
        "* `read_html` Read all tables found in the given HTML document\n",
        "\n",
        "* `read_json` Read data from a JSON (JavaScript Object Notation) string \n",
        "representation\n",
        "\n",
        "* `read_msgpack` Read pandas data encoded using the MessagePack binary format\n",
        "\n",
        "* `read_pickle` Read an arbitrary object stored in Python pickle format\n",
        "* `read_sas` Read a SAS dataset stored in one of the SAS system’s custom storage formats\n",
        "\n",
        "* `read_sql` Read the results of a SQL query (using SQLAlchemy) as a pandas DataFrame\n",
        "\n",
        "* `read_stata` Read a dataset from Stata file format\n",
        "\n",
        "* `read_feather` Read the Feather binary file format"
      ]
    },
    {
      "cell_type": "markdown",
      "metadata": {
        "id": "-wZ8GfSkbWaW",
        "colab_type": "text"
      },
      "source": [
        "Handling dates and other custom types can require extra effort. Let’s start with a\n",
        "small comma-separated (CSV) text file:"
      ]
    },
    {
      "cell_type": "code",
      "metadata": {
        "deletable": true,
        "editable": true,
        "id": "87Z6mT3HYfb-",
        "colab_type": "code",
        "outputId": "ed0a88d3-48d8-4bda-caad-38ed67358d8b",
        "colab": {
          "base_uri": "https://localhost:8080/",
          "height": 35
        }
      },
      "source": [
        "%cd examples"
      ],
      "execution_count": 19,
      "outputs": [
        {
          "output_type": "stream",
          "text": [
            "/content/examples\n"
          ],
          "name": "stdout"
        }
      ]
    },
    {
      "cell_type": "markdown",
      "metadata": {
        "id": "E1HxkGoFbveb",
        "colab_type": "text"
      },
      "source": [
        "Since this is comma-delimited, we can use read_csv to read it into a DataFrame:"
      ]
    },
    {
      "cell_type": "code",
      "metadata": {
        "deletable": true,
        "editable": true,
        "id": "yBPoNXv6YfcK",
        "colab_type": "code",
        "colab": {}
      },
      "source": [
        "df = pd.read_csv('ex1.csv')\n",
        "df"
      ],
      "execution_count": 0,
      "outputs": []
    },
    {
      "cell_type": "markdown",
      "metadata": {
        "id": "qR35kOjnby6Y",
        "colab_type": "text"
      },
      "source": [
        "We could also have used read_table and specified the delimiter:"
      ]
    },
    {
      "cell_type": "code",
      "metadata": {
        "deletable": true,
        "editable": true,
        "id": "VYiCjKE_YfcW",
        "colab_type": "code",
        "colab": {}
      },
      "source": [
        "pd.read_table('ex1.csv', sep=',')"
      ],
      "execution_count": 0,
      "outputs": []
    },
    {
      "cell_type": "markdown",
      "metadata": {
        "id": "GGIZAbX3b7Wb",
        "colab_type": "text"
      },
      "source": [
        "A file will not always have a header row. Consider this file:"
      ]
    },
    {
      "cell_type": "code",
      "metadata": {
        "deletable": true,
        "editable": true,
        "id": "mDJo5qQWYfcf",
        "colab_type": "code",
        "colab": {}
      },
      "source": [
        "!cat ex2.csv"
      ],
      "execution_count": 0,
      "outputs": []
    },
    {
      "cell_type": "markdown",
      "metadata": {
        "id": "NBBnFHXOcNjY",
        "colab_type": "text"
      },
      "source": [
        "To read this file, you have a couple of options. You can allow pandas to assign default\n",
        "column names, or you can specify names yourself:"
      ]
    },
    {
      "cell_type": "code",
      "metadata": {
        "deletable": true,
        "editable": true,
        "id": "Kbtvg9X7Yfcq",
        "colab_type": "code",
        "colab": {}
      },
      "source": [
        "pd.read_csv('ex2.csv', header=None)\n",
        "pd.read_csv('ex2.csv', names=['a', 'b', 'c', 'd', 'message'])"
      ],
      "execution_count": 0,
      "outputs": []
    },
    {
      "cell_type": "markdown",
      "metadata": {
        "id": "9dCPJ9kDchAO",
        "colab_type": "text"
      },
      "source": [
        "Suppose you wanted the message column to be the index of the returned DataFrame.\n",
        "You can either indicate you want the column at index 4 or named 'message' using\n",
        "the index_col argument:"
      ]
    },
    {
      "cell_type": "code",
      "metadata": {
        "deletable": true,
        "editable": true,
        "id": "kuEgjSqsYfcw",
        "colab_type": "code",
        "colab": {}
      },
      "source": [
        "names = ['a', 'b', 'c', 'd', 'message']\n",
        "pd.read_csv('ex2.csv', names=names, index_col='message')"
      ],
      "execution_count": 0,
      "outputs": []
    },
    {
      "cell_type": "markdown",
      "metadata": {
        "id": "DkAfB5UNdHxK",
        "colab_type": "text"
      },
      "source": [
        "In some cases, a table might not have a fixed delimiter, using whitespace or some\n",
        "other pattern to separate fields. Consider a text file that looks like this:"
      ]
    },
    {
      "cell_type": "code",
      "metadata": {
        "deletable": true,
        "editable": true,
        "id": "9Qaasss1YfdA",
        "colab_type": "code",
        "colab": {}
      },
      "source": [
        "!cat ex3.txt"
      ],
      "execution_count": 0,
      "outputs": []
    },
    {
      "cell_type": "markdown",
      "metadata": {
        "id": "2GRmbnjLdX36",
        "colab_type": "text"
      },
      "source": [
        "While you could do some munging by hand, the fields here are separated by a variable\n",
        "amount of whitespace. In these cases, you can pass a regular expression as a\n",
        "delimiter for read_table. This can be expressed by the regular expression \\s+, so we\n",
        "have then:"
      ]
    },
    {
      "cell_type": "code",
      "metadata": {
        "deletable": true,
        "editable": true,
        "id": "KnQ9QBwbYfdH",
        "colab_type": "code",
        "colab": {}
      },
      "source": [
        "result = pd.read_table('ex3.txt', sep='\\s+')\n",
        "result"
      ],
      "execution_count": 0,
      "outputs": []
    },
    {
      "cell_type": "markdown",
      "metadata": {
        "id": "5thrs_LSdeMN",
        "colab_type": "text"
      },
      "source": [
        "Because there was one fewer column name than the number of data rows,\n",
        "read_table infers that the first column should be the DataFrame’s index in this special\n",
        "case.\n",
        "The parser functions have many additional arguments to help you handle the wide\n",
        "variety of exception file formats that occur (see a partial listing in Table 6-2). For\n",
        "example, you can skip the first, third, and fourth rows of a file with skiprows:"
      ]
    },
    {
      "cell_type": "code",
      "metadata": {
        "deletable": true,
        "editable": true,
        "id": "-hgrqfCkYfdP",
        "colab_type": "code",
        "colab": {}
      },
      "source": [
        "!cat ex4.csv\n",
        "pd.read_csv('ex4.csv', skiprows=[0, 2, 3])"
      ],
      "execution_count": 0,
      "outputs": []
    },
    {
      "cell_type": "markdown",
      "metadata": {
        "id": "yhZAKTNreT0O",
        "colab_type": "text"
      },
      "source": [
        "Handling missing values is an important and frequently nuanced part of the file parsing\n",
        "process. Missing data is usually either not present (empty string) or marked by\n",
        "some sentinel value. By default, pandas uses a set of commonly occurring sentinels,\n",
        "such as NA and NULL:"
      ]
    },
    {
      "cell_type": "code",
      "metadata": {
        "deletable": true,
        "editable": true,
        "id": "83Gjx17IYfdX",
        "colab_type": "code",
        "colab": {}
      },
      "source": [
        "!cat ex5.csv\n",
        "result = pd.read_csv('ex5.csv')\n",
        "result\n",
        "pd.isnull(result)"
      ],
      "execution_count": 0,
      "outputs": []
    },
    {
      "cell_type": "markdown",
      "metadata": {
        "id": "lo9A1Ow7eoeV",
        "colab_type": "text"
      },
      "source": [
        "The na_values option can take either a list or set of strings to consider missing\n",
        "values:"
      ]
    },
    {
      "cell_type": "code",
      "metadata": {
        "deletable": true,
        "editable": true,
        "id": "b9RjIad3Yfde",
        "colab_type": "code",
        "colab": {}
      },
      "source": [
        "result = pd.read_csv('ex5.csv', na_values=['NULL'])\n",
        "result"
      ],
      "execution_count": 0,
      "outputs": []
    },
    {
      "cell_type": "markdown",
      "metadata": {
        "id": "iMgeIcuVetZa",
        "colab_type": "text"
      },
      "source": [
        "Different NA sentinels can be specified for each column in a dict:"
      ]
    },
    {
      "cell_type": "code",
      "metadata": {
        "deletable": true,
        "editable": true,
        "id": "lKScVbgzYfdk",
        "colab_type": "code",
        "colab": {}
      },
      "source": [
        "sentinels = {'message': ['foo', 'NA'], 'something': ['two']}\n",
        "pd.read_csv('ex5.csv', na_values=sentinels)"
      ],
      "execution_count": 0,
      "outputs": []
    },
    {
      "cell_type": "markdown",
      "metadata": {
        "deletable": true,
        "editable": true,
        "id": "02oMFSGMYfdr",
        "colab_type": "text"
      },
      "source": [
        "## Reading Text Files in Pieces"
      ]
    },
    {
      "cell_type": "markdown",
      "metadata": {
        "id": "kp8dTOine5oM",
        "colab_type": "text"
      },
      "source": [
        "When processing very large files or figuring out the right set of arguments to correctly\n",
        "process a large file, you may only want to read in a small piece of a file or iterate\n",
        "through smaller chunks of the file.\n",
        "Before we look at a large file, we make the pandas display settings more compact:"
      ]
    },
    {
      "cell_type": "code",
      "metadata": {
        "deletable": true,
        "editable": true,
        "id": "FHREKKaMYfdt",
        "colab_type": "code",
        "colab": {}
      },
      "source": [
        "pd.options.display.max_rows = 10"
      ],
      "execution_count": 0,
      "outputs": []
    },
    {
      "cell_type": "code",
      "metadata": {
        "deletable": true,
        "editable": true,
        "id": "P_Op1_6LYfdx",
        "colab_type": "code",
        "colab": {}
      },
      "source": [
        "result = pd.read_csv('ex6.csv')\n",
        "result"
      ],
      "execution_count": 0,
      "outputs": []
    },
    {
      "cell_type": "markdown",
      "metadata": {
        "id": "ljqcdGsvfMWG",
        "colab_type": "text"
      },
      "source": [
        "If you want to only read a small number of rows (avoiding reading the entire file),\n",
        "specify that with nrows:"
      ]
    },
    {
      "cell_type": "code",
      "metadata": {
        "deletable": true,
        "editable": true,
        "id": "G84inOCEYfd3",
        "colab_type": "code",
        "colab": {}
      },
      "source": [
        "pd.read_csv('ex6.csv', nrows=5)"
      ],
      "execution_count": 0,
      "outputs": []
    },
    {
      "cell_type": "markdown",
      "metadata": {
        "id": "TgJiLrWzfPvh",
        "colab_type": "text"
      },
      "source": [
        "To read a file in pieces, specify a chunksize as a number of rows:"
      ]
    },
    {
      "cell_type": "code",
      "metadata": {
        "deletable": true,
        "editable": true,
        "id": "Qy3xIhzIYfd9",
        "colab_type": "code",
        "outputId": "2b50e3bd-583f-4a15-9db0-5249af527166",
        "colab": {
          "base_uri": "https://localhost:8080/",
          "height": 35
        }
      },
      "source": [
        "chunker = pd.read_csv('ex6.csv', chunksize=1000)\n",
        "chunker"
      ],
      "execution_count": 0,
      "outputs": [
        {
          "output_type": "execute_result",
          "data": {
            "text/plain": [
              "<pandas.io.parsers.TextFileReader at 0x7fc58bd1a4e0>"
            ]
          },
          "metadata": {
            "tags": []
          },
          "execution_count": 46
        }
      ]
    },
    {
      "cell_type": "markdown",
      "metadata": {
        "id": "-jvekXWAfW79",
        "colab_type": "text"
      },
      "source": [
        "The TextParser object returned by read_csv allows you to iterate over the parts of\n",
        "the file according to the chunksize. For example, we can iterate over ex6.csv, aggregating\n",
        "the value counts in the 'key' column like so:"
      ]
    },
    {
      "cell_type": "code",
      "metadata": {
        "deletable": true,
        "editable": true,
        "id": "a76VKZYJYfeD",
        "colab_type": "code",
        "colab": {}
      },
      "source": [
        "chunker = pd.read_csv('ex6.csv', chunksize=1000)\n",
        "\n",
        "tot = pd.Series([])\n",
        "for piece in chunker:\n",
        "    tot = tot.add(piece['key'].value_counts(), fill_value=0)\n",
        "\n",
        "tot = tot.sort_values(ascending=False)"
      ],
      "execution_count": 0,
      "outputs": []
    },
    {
      "cell_type": "code",
      "metadata": {
        "deletable": true,
        "editable": true,
        "id": "c5Qv5VN3YfeL",
        "colab_type": "code",
        "colab": {}
      },
      "source": [
        "tot[:10]"
      ],
      "execution_count": 0,
      "outputs": []
    },
    {
      "cell_type": "markdown",
      "metadata": {
        "deletable": true,
        "editable": true,
        "id": "VjjkOh_0YfeW",
        "colab_type": "text"
      },
      "source": [
        "## Writing Data to Text Format"
      ]
    },
    {
      "cell_type": "markdown",
      "metadata": {
        "id": "omgfY_XKf4yr",
        "colab_type": "text"
      },
      "source": [
        "Data can also be exported to a delimited format. Let’s consider one of the CSV files\n",
        "read before:"
      ]
    },
    {
      "cell_type": "code",
      "metadata": {
        "deletable": true,
        "editable": true,
        "id": "oV7sqpg6Yfeb",
        "colab_type": "code",
        "colab": {}
      },
      "source": [
        "data = pd.read_csv('ex5.csv')\n",
        "data"
      ],
      "execution_count": 0,
      "outputs": []
    },
    {
      "cell_type": "markdown",
      "metadata": {
        "id": "AsuvLMeBf-gB",
        "colab_type": "text"
      },
      "source": [
        "Using DataFrame’s to_csv method, we can write the data out to a comma-separated\n",
        "file:"
      ]
    },
    {
      "cell_type": "code",
      "metadata": {
        "deletable": true,
        "editable": true,
        "id": "Mv85zSYcYfeh",
        "colab_type": "code",
        "colab": {}
      },
      "source": [
        "data.to_csv('out.csv')\n",
        "!cat out.csv"
      ],
      "execution_count": 0,
      "outputs": []
    },
    {
      "cell_type": "markdown",
      "metadata": {
        "id": "gF1lFGXbgFjY",
        "colab_type": "text"
      },
      "source": [
        "Other delimiters can be used, of course (writing to sys.stdout so it prints the text\n",
        "result to the console):"
      ]
    },
    {
      "cell_type": "code",
      "metadata": {
        "deletable": true,
        "editable": true,
        "id": "ICYjj0eBYfem",
        "colab_type": "code",
        "colab": {}
      },
      "source": [
        "import sys\n",
        "data.to_csv(sys.stdout, sep='|')"
      ],
      "execution_count": 0,
      "outputs": []
    },
    {
      "cell_type": "markdown",
      "metadata": {
        "id": "RkLuzX4SgK3h",
        "colab_type": "text"
      },
      "source": [
        "Missing values appear as empty strings in the output. You might want to denote them\n",
        "by some other sentinel value:"
      ]
    },
    {
      "cell_type": "code",
      "metadata": {
        "deletable": true,
        "editable": true,
        "id": "8K_yhZDoYfe3",
        "colab_type": "code",
        "colab": {}
      },
      "source": [
        "data.to_csv(sys.stdout, na_rep='NULL')"
      ],
      "execution_count": 0,
      "outputs": []
    },
    {
      "cell_type": "markdown",
      "metadata": {
        "id": "NyRlbtiCgXza",
        "colab_type": "text"
      },
      "source": [
        "With no other options specified, both the row and column labels are written. Both of\n",
        "these can be disabled:"
      ]
    },
    {
      "cell_type": "code",
      "metadata": {
        "deletable": true,
        "editable": true,
        "id": "bPnYWvfrYfe7",
        "colab_type": "code",
        "colab": {}
      },
      "source": [
        "data.to_csv(sys.stdout, index=False, header=False)"
      ],
      "execution_count": 0,
      "outputs": []
    },
    {
      "cell_type": "markdown",
      "metadata": {
        "id": "uzCgBvGxgbzS",
        "colab_type": "text"
      },
      "source": [
        "You can also write only a subset of the columns, and in an order of your choosing:"
      ]
    },
    {
      "cell_type": "code",
      "metadata": {
        "deletable": true,
        "editable": true,
        "id": "kMsyys6IYfe_",
        "colab_type": "code",
        "colab": {}
      },
      "source": [
        "data.to_csv(sys.stdout, index=False, columns=['a', 'b', 'c'])"
      ],
      "execution_count": 0,
      "outputs": []
    },
    {
      "cell_type": "markdown",
      "metadata": {
        "id": "wIGslaqKggbX",
        "colab_type": "text"
      },
      "source": [
        "Series also has a to_csv method:"
      ]
    },
    {
      "cell_type": "code",
      "metadata": {
        "deletable": true,
        "editable": true,
        "id": "IW5t3ijFYffD",
        "colab_type": "code",
        "colab": {}
      },
      "source": [
        "dates = pd.date_range('1/1/2000', periods=7)\n",
        "ts = pd.Series(np.arange(7), index=dates)\n",
        "ts.to_csv('tseries.csv')\n",
        "!cat tseries.csv"
      ],
      "execution_count": 0,
      "outputs": []
    },
    {
      "cell_type": "markdown",
      "metadata": {
        "deletable": true,
        "editable": true,
        "id": "Q0vdEaVOYffn",
        "colab_type": "text"
      },
      "source": [
        "## JSON Data"
      ]
    },
    {
      "cell_type": "markdown",
      "metadata": {
        "id": "DgJnwg4thhpC",
        "colab_type": "text"
      },
      "source": [
        "JSON (short for JavaScript Object Notation) has become one of the standard formats\n",
        "for sending data by HTTP request between web browsers and other applications. It is\n",
        "a much more free-form data format than a tabular text form like CSV. Here is an\n",
        "example:"
      ]
    },
    {
      "cell_type": "code",
      "metadata": {
        "deletable": true,
        "editable": true,
        "id": "Bhvkwn9tYffn",
        "colab_type": "code",
        "colab": {}
      },
      "source": [
        "obj = \"\"\"\n",
        "{\"name\": \"Wes\",\n",
        " \"places_lived\": [\"United States\", \"Spain\", \"Germany\"],\n",
        " \"pet\": null,\n",
        " \"siblings\": [{\"name\": \"Scott\", \"age\": 30, \"pets\": [\"Zeus\", \"Zuko\"]},\n",
        "              {\"name\": \"Katie\", \"age\": 38,\n",
        "               \"pets\": [\"Sixes\", \"Stache\", \"Cisco\"]}]\n",
        "}\n",
        "\"\"\""
      ],
      "execution_count": 0,
      "outputs": []
    },
    {
      "cell_type": "markdown",
      "metadata": {
        "id": "dJUfHDFhhldN",
        "colab_type": "text"
      },
      "source": [
        "JSON is very nearly valid Python code with the exception of its null value null and\n",
        "some other nuances (such as disallowing trailing commas at the end of lists). The\n",
        "basic types are objects (dicts), arrays (lists), strings, numbers, booleans, and nulls. All\n",
        "of the keys in an object must be strings. There are several Python libraries for reading and writing JSON data. We'll use json here, as it is built into the Python standard\n",
        "library. To convert a JSON string to Python form, use json.loads:"
      ]
    },
    {
      "cell_type": "code",
      "metadata": {
        "deletable": true,
        "editable": true,
        "id": "1LS18iy1Yffr",
        "colab_type": "code",
        "colab": {}
      },
      "source": [
        "import json\n",
        "result = json.loads(obj)\n",
        "result"
      ],
      "execution_count": 0,
      "outputs": []
    },
    {
      "cell_type": "markdown",
      "metadata": {
        "id": "wxLzoHAAh6Iz",
        "colab_type": "text"
      },
      "source": [
        "json.dumps, on the other hand, converts a Python object back to JSON:"
      ]
    },
    {
      "cell_type": "code",
      "metadata": {
        "deletable": true,
        "editable": true,
        "id": "m3fgrgVtYffz",
        "colab_type": "code",
        "colab": {}
      },
      "source": [
        "asjson = json.dumps(result)"
      ],
      "execution_count": 0,
      "outputs": []
    },
    {
      "cell_type": "markdown",
      "metadata": {
        "id": "b5z5a0GTh8-T",
        "colab_type": "text"
      },
      "source": [
        "How you convert a JSON object or list of objects to a DataFrame or some other data\n",
        "structure for analysis will be up to you. Conveniently, you can pass a list of dicts\n",
        "(which were previously JSON objects) to the DataFrame constructor and select a subset\n",
        "of the data fields:"
      ]
    },
    {
      "cell_type": "code",
      "metadata": {
        "deletable": true,
        "editable": true,
        "id": "sO8sL4FDYff2",
        "colab_type": "code",
        "colab": {}
      },
      "source": [
        "siblings = pd.DataFrame(result['siblings'], columns=['name', 'age'])\n",
        "siblings"
      ],
      "execution_count": 0,
      "outputs": []
    },
    {
      "cell_type": "markdown",
      "metadata": {
        "id": "RLVls6paiACc",
        "colab_type": "text"
      },
      "source": [
        "The pandas.read_json can automatically convert JSON datasets in specific arrangements\n",
        "into a Series or DataFrame. For example:"
      ]
    },
    {
      "cell_type": "code",
      "metadata": {
        "deletable": true,
        "editable": true,
        "id": "FeBXdIczYff6",
        "colab_type": "code",
        "colab": {}
      },
      "source": [
        "!cat example.json"
      ],
      "execution_count": 0,
      "outputs": []
    },
    {
      "cell_type": "markdown",
      "metadata": {
        "id": "9wmrSTA1iHLP",
        "colab_type": "text"
      },
      "source": [
        "The default options for pandas.read_json assume that each object in the JSON array\n",
        "is a row in the table:"
      ]
    },
    {
      "cell_type": "code",
      "metadata": {
        "deletable": true,
        "editable": true,
        "id": "tIebvIO3YfgA",
        "colab_type": "code",
        "colab": {}
      },
      "source": [
        "data = pd.read_json('example.json')\n",
        "data"
      ],
      "execution_count": 0,
      "outputs": []
    },
    {
      "cell_type": "markdown",
      "metadata": {
        "deletable": true,
        "editable": true,
        "id": "69_KHhmPYfgJ",
        "colab_type": "text"
      },
      "source": [
        "##  HTML: Web Scraping"
      ]
    },
    {
      "cell_type": "markdown",
      "metadata": {
        "deletable": true,
        "editable": true,
        "id": "eFcMym8NYfgL",
        "colab_type": "text"
      },
      "source": [
        "Python has many libraries for reading and writing data in the ubiquitous HTML and\n",
        "XML formats. Examples include lxml, Beautiful Soup, and html5lib. While lxml is\n",
        "comparatively much faster in general, the other libraries can better handle malformed\n",
        "HTML or XML files.\n",
        "\n",
        "Before we scrape a website, we need to take a look at their robots.txt. This file tells us if the website allows scraping or if they do not. To find the robots.txt, type in the base url and add “/robots.txt”. For eg, if we want to crawl shobiddak.com, type in https://www.shobiddak.com/robots.txt at the url box.\n",
        "\n",
        "If the robots.txt allows full access it says as follows:\n",
        "\n",
        "User-agent: *\n",
        "\n",
        "Disallow:\n",
        "\n",
        "If the robots.txt blocks all access, it contains the following:\n",
        "\n",
        "User-agent: *\n",
        "\n",
        "Disallow: /\n",
        "\n",
        "And if the robots.txt gives partial access, it contains the following, where section stands for the sections that are not to be crawled:\n",
        "\n",
        "User-agent: *\n",
        "\n",
        "Disallow: /section/"
      ]
    },
    {
      "cell_type": "markdown",
      "metadata": {
        "id": "dT9zAFVyjb5u",
        "colab_type": "text"
      },
      "source": [
        "Import the necessary libraries:\n",
        "Requests is used in this example to get the html content, BeautifulSoup to parse the html, and pandas to make a dataframe and write to a csv."
      ]
    },
    {
      "cell_type": "code",
      "metadata": {
        "deletable": true,
        "editable": true,
        "id": "MwJMO0GaYfgM",
        "colab_type": "code",
        "colab": {}
      },
      "source": [
        "import requests \n",
        "from bs4 import BeautifulSoup\n",
        "import pandas"
      ],
      "execution_count": 0,
      "outputs": []
    },
    {
      "cell_type": "markdown",
      "metadata": {
        "id": "zKbJcj21j2tf",
        "colab_type": "text"
      },
      "source": [
        "Store the url you want to scrape to a variable. In this example, I go to apartments.com and type in Cincinnati, OH in the search box and press Go as in the screenshot below."
      ]
    },
    {
      "cell_type": "code",
      "metadata": {
        "id": "uB8e9T2Ij6Tw",
        "colab_type": "code",
        "colab": {}
      },
      "source": [
        "base_url = \"https://shobiddak.com/cars?page=1\""
      ],
      "execution_count": 0,
      "outputs": []
    },
    {
      "cell_type": "markdown",
      "metadata": {
        "id": "9e-grntTj-_2",
        "colab_type": "text"
      },
      "source": [
        "Get the html contents from the page. This is done using the requests library"
      ]
    },
    {
      "cell_type": "code",
      "metadata": {
        "id": "PIoFBjeDkA7j",
        "colab_type": "code",
        "colab": {}
      },
      "source": [
        "r = requests.get(base_url)\n",
        "c = r.content"
      ],
      "execution_count": 0,
      "outputs": []
    },
    {
      "cell_type": "markdown",
      "metadata": {
        "id": "aVK_dn6ykEP0",
        "colab_type": "text"
      },
      "source": [
        "Parse the html. This is done with BeautifulSoup."
      ]
    },
    {
      "cell_type": "code",
      "metadata": {
        "id": "0mG9mMQzkFCB",
        "colab_type": "code",
        "colab": {}
      },
      "source": [
        "soup = BeautifulSoup(c,\"html.parser\")\n"
      ],
      "execution_count": 0,
      "outputs": []
    },
    {
      "cell_type": "markdown",
      "metadata": {
        "id": "QSfDNUCRkOHk",
        "colab_type": "text"
      },
      "source": [
        " Extract the first and last page numbers. We need to be able to find the first and the last page numbers in order to be able to crawl through all of the pages on the website dynamically. To do this click on the paging section at the end of the page as shown in the screen shot below and right click to inspect."
      ]
    },
    {
      "cell_type": "code",
      "metadata": {
        "id": "2GdDwbJ1kaHo",
        "colab_type": "code",
        "colab": {}
      },
      "source": [
        "# To extract the first and last page numbers\n",
        "#paging = soup.find(\"div\",{\"class\":\"all_contents\"}).find(\"div\",{\"class\":\"center-image\"}).find(\"div\",{\"class\":\"pagination\"}).find_all(\"a\")\n",
        "paging = soup.find(\"div\",{\"class\":\"all_contents\"}).find(\"div\",{\"class\":\"pagination\"}).find_all(\"a\")\n",
        "start_page = paging[1].text\n",
        "last_page = paging[len(paging)-2].text"
      ],
      "execution_count": 0,
      "outputs": []
    },
    {
      "cell_type": "markdown",
      "metadata": {
        "id": "OXFenejppgbF",
        "colab_type": "text"
      },
      "source": [
        "Make page links from the page numbers ,crawl through the pages and extract the contents from the corresponding tags. We start a for loop to iterate through each of the pages."
      ]
    },
    {
      "cell_type": "code",
      "metadata": {
        "id": "hipUlAlRphUl",
        "colab_type": "code",
        "colab": {}
      },
      "source": [
        "base_url=\"https://shobiddak.com/cars?page=\"\n",
        "for page_number in range(int(start_page),3):\n",
        "    \n",
        "    # To form the url based on page numbers\n",
        "    url = base_url+str(page_number)\n",
        "    print(url)\n",
        "    r = requests.get(base_url+str(page_number)+\"/\")\n",
        "    c = r.content\n",
        "    \n",
        "    #soup = BeautifulSoup(c,\"html.parser\")"
      ],
      "execution_count": 0,
      "outputs": []
    },
    {
      "cell_type": "markdown",
      "metadata": {
        "id": "kjNKV-1Gzw0b",
        "colab_type": "text"
      },
      "source": [
        "Extract the header class for title and year.Right click on the title and inspect."
      ]
    },
    {
      "cell_type": "code",
      "metadata": {
        "id": "iCpAPK1tz7J2",
        "colab_type": "code",
        "colab": {}
      },
      "source": [
        "# To extract the Title,year,color and price\n",
        "    placard_header = soup.find_all(\"div\", {\"class\":\"col-xs-4 fixed-box-height guide-card\"})\n",
        "    print(placard_header[0])"
      ],
      "execution_count": 0,
      "outputs": []
    },
    {
      "cell_type": "markdown",
      "metadata": {
        "id": "bQh_OzbL0KSV",
        "colab_type": "text"
      },
      "source": [
        "Start a for loop to process car by car and extract the values of Car, Color, Year. We extract the individual values by accessing into the inner most tag with the value. "
      ]
    },
    {
      "cell_type": "code",
      "metadata": {
        "id": "MIE9i3y50Lmd",
        "colab_type": "code",
        "colab": {}
      },
      "source": [
        "# To process property by property by looping\n",
        "    web_content_list=[]\n",
        "    for item_header in placard_header:\n",
        "      \n",
        "      # To store the information to a dictionary\n",
        "      web_content_dict = {}    \n",
        "      \n",
        "      year_color = item_header.find(\"p\",{\"class\":\"second-info\"}).find_all(\"a\")\n",
        "      web_content_dict[\"Year\"] = year_color[0].text\n",
        "      web_content_dict[\"Color\"] = year_color[1].text      \n",
        "      web_content_dict[\"Car\"]=item_header.find(\"p\",{\"class\":\"section_title\"}).text\n",
        "      # To store the dictionary to into a list\n",
        "      web_content_list.append(web_content_dict)"
      ],
      "execution_count": 0,
      "outputs": []
    },
    {
      "cell_type": "markdown",
      "metadata": {
        "id": "hwNuYbi70Oxu",
        "colab_type": "text"
      },
      "source": [
        "Make a dataframe with the list and write the list to a csv file"
      ]
    },
    {
      "cell_type": "code",
      "metadata": {
        "id": "QTYaMqYq0QtL",
        "colab_type": "code",
        "colab": {}
      },
      "source": [
        "df = pandas.DataFrame(web_content_list)\n",
        "with pd.option_context('display.max_rows', 5, 'display.max_columns', 5,'display.unicode.east_asian_width', True):  # more options can be specified also\n",
        "    print(df)\n",
        "\n",
        "\n",
        "\n",
        "# To write the dataframe to a csv file\n",
        "df.to_csv(\"Output.csv\")"
      ],
      "execution_count": 0,
      "outputs": []
    },
    {
      "cell_type": "markdown",
      "metadata": {
        "deletable": true,
        "editable": true,
        "id": "9rFy55xmYfhc",
        "colab_type": "text"
      },
      "source": [
        "## Interacting with Web APIs"
      ]
    },
    {
      "cell_type": "markdown",
      "metadata": {
        "id": "vAGtx5FHJ5eq",
        "colab_type": "text"
      },
      "source": [
        "Many websites have public APIs providing data feeds via JSON or some other format.\n",
        "There are a number of ways to access these APIs from Python; one easy-to-use\n",
        "method that I recommend is the requests package.\n",
        "To find the last 30 GitHub issues for pandas on GitHub, we can make a GET HTTP\n",
        "request using the add-on requests library:"
      ]
    },
    {
      "cell_type": "code",
      "metadata": {
        "deletable": true,
        "editable": true,
        "id": "ReuOuTqKYfhc",
        "colab_type": "code",
        "colab": {}
      },
      "source": [
        "import requests\n",
        "url = 'https://api.github.com/repos/pandas-dev/pandas/issues'\n",
        "resp = requests.get(url)\n",
        "resp"
      ],
      "execution_count": 0,
      "outputs": []
    },
    {
      "cell_type": "markdown",
      "metadata": {
        "id": "O48SYq4WJ9F2",
        "colab_type": "text"
      },
      "source": [
        "The Response object’s json method will return a dictionary containing JSON parsed\n",
        "into native Python objects:\n",
        "\n",
        "\n",
        "\n"
      ]
    },
    {
      "cell_type": "code",
      "metadata": {
        "deletable": true,
        "editable": true,
        "id": "s-1YheKiYfhf",
        "colab_type": "code",
        "colab": {}
      },
      "source": [
        "data = resp.json()\n",
        "print(data)"
      ],
      "execution_count": 0,
      "outputs": []
    },
    {
      "cell_type": "markdown",
      "metadata": {
        "id": "NTB_khBdKOgC",
        "colab_type": "text"
      },
      "source": [
        "Each element in data is a dictionary containing all of the data found on a GitHub\n",
        "issue page (except for the comments). We can pass data directly to DataFrame and\n",
        "extract fields of interest:"
      ]
    },
    {
      "cell_type": "code",
      "metadata": {
        "deletable": true,
        "editable": true,
        "id": "Mt2lCuncYfhi",
        "colab_type": "code",
        "colab": {}
      },
      "source": [
        "issues = pd.DataFrame(data)\n",
        "issues"
      ],
      "execution_count": 0,
      "outputs": []
    },
    {
      "cell_type": "markdown",
      "metadata": {
        "deletable": true,
        "editable": true,
        "id": "kjxx8TbFYfhl",
        "colab_type": "text"
      },
      "source": [
        "## Interacting with Databases"
      ]
    },
    {
      "cell_type": "code",
      "metadata": {
        "deletable": true,
        "editable": true,
        "id": "DudCLjQKYfhm",
        "colab_type": "code",
        "colab": {}
      },
      "source": [
        "import sqlite3\n",
        "query = \"\"\"\n",
        "CREATE TABLE test\n",
        "(a VARCHAR(20), b VARCHAR(20),\n",
        " c REAL,        d INTEGER\n",
        ");\"\"\"\n",
        "con = sqlite3.connect('mydata.sqlite')\n",
        "con.execute(query)\n",
        "con.commit()"
      ],
      "execution_count": 0,
      "outputs": []
    },
    {
      "cell_type": "code",
      "metadata": {
        "deletable": true,
        "editable": true,
        "id": "iwGkGJcxYfhp",
        "colab_type": "code",
        "colab": {}
      },
      "source": [
        "data = [('Atlanta', 'Georgia', 1.25, 6),\n",
        "        ('Tallahassee', 'Florida', 2.6, 3),\n",
        "        ('Sacramento', 'California', 1.7, 5)]\n",
        "stmt = \"INSERT INTO test VALUES(?, ?, ?, ?)\"\n",
        "con.executemany(stmt, data)\n",
        "con.commit()"
      ],
      "execution_count": 0,
      "outputs": []
    },
    {
      "cell_type": "code",
      "metadata": {
        "deletable": true,
        "editable": true,
        "id": "cRjFEMv7Yfht",
        "colab_type": "code",
        "colab": {}
      },
      "source": [
        "cursor = con.execute('select * from test')\n",
        "rows = cursor.fetchall()\n",
        "rows"
      ],
      "execution_count": 0,
      "outputs": []
    },
    {
      "cell_type": "code",
      "metadata": {
        "deletable": true,
        "editable": true,
        "id": "SjghT_5AYfhv",
        "colab_type": "code",
        "colab": {}
      },
      "source": [
        "cursor.description\n",
        "pd.DataFrame(rows, columns=[x[0] for x in cursor.description])"
      ],
      "execution_count": 0,
      "outputs": []
    },
    {
      "cell_type": "code",
      "metadata": {
        "deletable": true,
        "editable": true,
        "id": "lBfOKP3aYfh-",
        "colab_type": "code",
        "colab": {}
      },
      "source": [
        "import sqlalchemy as sqla\n",
        "db = sqla.create_engine('sqlite:///mydata.sqlite')\n",
        "pd.read_sql('select * from test', db)"
      ],
      "execution_count": 0,
      "outputs": []
    },
    {
      "cell_type": "code",
      "metadata": {
        "deletable": true,
        "editable": true,
        "id": "NYy6sqDzYfiA",
        "colab_type": "code",
        "colab": {}
      },
      "source": [
        "!rm mydata.sqlite"
      ],
      "execution_count": 0,
      "outputs": []
    }
  ]
}